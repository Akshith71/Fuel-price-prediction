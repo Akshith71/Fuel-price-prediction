{
 "cells": [
  {
   "cell_type": "code",
   "execution_count": null,
   "id": "d9be2630",
   "metadata": {},
   "outputs": [],
   "source": [
    "import pandas as pd\n",
    "import numpy as np\n",
    "from sklearn.model_selection import train_test_split\n",
    "from sklearn.ensemble import RandomForestRegressor\n",
    "from sklearn.metrics import mean_squared_error, mean_absolute_error\n",
    "import matplotlib.pyplot as plt\n",
    "import seaborn as sns\n",
    "# impoting the libraries\n"
   ]
  },
  {
   "cell_type": "code",
   "execution_count": null,
   "id": "a44ffe5b",
   "metadata": {},
   "outputs": [],
   "source": [
    "petrol_data=pd.read_csv(r\"C:\\Users\\purnn\\Downloads\\petrol.csv\")"
   ]
  },
  {
   "cell_type": "code",
   "execution_count": null,
   "id": "de4c8d26",
   "metadata": {},
   "outputs": [],
   "source": [
    "petrol_data.head(5)"
   ]
  },
  {
   "cell_type": "code",
   "execution_count": null,
   "id": "76a9e665",
   "metadata": {},
   "outputs": [],
   "source": [
    "petrol_data.info()"
   ]
  },
  {
   "cell_type": "code",
   "execution_count": null,
   "id": "bd72d895",
   "metadata": {},
   "outputs": [],
   "source": [
    "petrol_data[\"city\"].value_counts()"
   ]
  },
  {
   "cell_type": "code",
   "execution_count": null,
   "id": "d296ad53",
   "metadata": {},
   "outputs": [],
   "source": [
    "petrol_data.groupby([\"city\"])[\"rate\"].mean().plot(kind=\"bar\")"
   ]
  },
  {
   "cell_type": "code",
   "execution_count": null,
   "id": "5bc546cf-670f-4f1b-bd81-097e726b3e23",
   "metadata": {},
   "outputs": [],
   "source": [
    "import pandas as pd\n",
    "petrol_data['date'] = pd.to_datetime(petrol_data['date'])\n",
    "\n",
    "# Plotting the data\n",
    "plt.figure(figsize=(14, 8))\n",
    "sns.lineplot(data=petrol_data, x='date', y='rate', hue='city', marker='o')\n",
    "\n",
    "plt.title('Petrol Prices Over Time in Different Cities')\n",
    "plt.xlabel('Date')\n",
    "plt.ylabel('Price')\n",
    "plt.legend(title='City')\n",
    "plt.grid(True)\n",
    "plt.show()"
   ]
  },
  {
   "cell_type": "code",
   "execution_count": null,
   "id": "1c197948",
   "metadata": {},
   "outputs": [],
   "source": [
    "petrol_data.replace({\"city\":{\"Hyderabad\":4,\"Delhi\":1,\"Mumbai\":5,\"Chennai\":2,\"Bengaluru\":3}},inplace=True)"
   ]
  },
  {
   "cell_type": "code",
   "execution_count": null,
   "id": "42307df6",
   "metadata": {},
   "outputs": [],
   "source": [
    "petrol_data[\"state\"].value_counts()"
   ]
  },
  {
   "cell_type": "code",
   "execution_count": null,
   "id": "a43d9161",
   "metadata": {},
   "outputs": [],
   "source": [
    "petrol_data.drop(\"state\",inplace=True,axis=1)"
   ]
  },
  {
   "cell_type": "code",
   "execution_count": null,
   "id": "965ee77a",
   "metadata": {},
   "outputs": [],
   "source": [
    "petrol_data.head()"
   ]
  },
  {
   "cell_type": "code",
   "execution_count": null,
   "id": "11c1ffbc",
   "metadata": {},
   "outputs": [],
   "source": [
    "type(petrol_data[\"date\"][0])"
   ]
  },
  {
   "cell_type": "code",
   "execution_count": null,
   "id": "2ea7287e",
   "metadata": {},
   "outputs": [],
   "source": [
    "petrol_data[\"date\"]=petrol_data[\"date\"].astype(\"string\")"
   ]
  },
  {
   "cell_type": "code",
   "execution_count": null,
   "id": "3d4842c9",
   "metadata": {},
   "outputs": [],
   "source": [
    "petrol_data[\"date\"][0][-2:]"
   ]
  },
  {
   "cell_type": "code",
   "execution_count": null,
   "id": "ba671856",
   "metadata": {},
   "outputs": [],
   "source": [
    "def split(str):\n",
    "    return str[0:4]"
   ]
  },
  {
   "cell_type": "code",
   "execution_count": null,
   "id": "edaad578",
   "metadata": {},
   "outputs": [],
   "source": [
    "petrol_data[\"year\"]=petrol_data[\"date\"].apply(split)"
   ]
  },
  {
   "cell_type": "code",
   "execution_count": null,
   "id": "e9cae54a",
   "metadata": {},
   "outputs": [],
   "source": [
    "petrol_data.head()"
   ]
  },
  {
   "cell_type": "code",
   "execution_count": null,
   "id": "5bd3f2b9",
   "metadata": {},
   "outputs": [],
   "source": [
    "def splits(str):\n",
    "    return str[5:7]"
   ]
  },
  {
   "cell_type": "code",
   "execution_count": null,
   "id": "233b713e",
   "metadata": {},
   "outputs": [],
   "source": [
    "petrol_data[\"month\"]=petrol_data[\"date\"].apply(splits)"
   ]
  },
  {
   "cell_type": "code",
   "execution_count": null,
   "id": "53118f1f",
   "metadata": {},
   "outputs": [],
   "source": [
    "petrol_data.head(5)"
   ]
  },
  {
   "cell_type": "code",
   "execution_count": null,
   "id": "8d253c00",
   "metadata": {},
   "outputs": [],
   "source": [
    "petrol_data.drop(\"date\",axis=1,inplace=True)"
   ]
  },
  {
   "cell_type": "code",
   "execution_count": null,
   "id": "d25594ba",
   "metadata": {},
   "outputs": [],
   "source": [
    "petrol_data.head(5)"
   ]
  },
  {
   "cell_type": "code",
   "execution_count": null,
   "id": "812d78a3",
   "metadata": {},
   "outputs": [],
   "source": [
    "petrol_data.info()"
   ]
  },
  {
   "cell_type": "code",
   "execution_count": null,
   "id": "e930a4ac",
   "metadata": {},
   "outputs": [],
   "source": [
    "petrol_data[\"year\"]=petrol_data[\"year\"].astype(int)"
   ]
  },
  {
   "cell_type": "code",
   "execution_count": null,
   "id": "9415adc7",
   "metadata": {},
   "outputs": [],
   "source": [
    "petrol_data[\"month\"]=petrol_data[\"month\"].astype(int)"
   ]
  },
  {
   "cell_type": "code",
   "execution_count": null,
   "id": "3e8b8189",
   "metadata": {},
   "outputs": [],
   "source": [
    "petrol_data.info()"
   ]
  },
  {
   "cell_type": "code",
   "execution_count": null,
   "id": "c81dbfae",
   "metadata": {},
   "outputs": [],
   "source": [
    "x=petrol_data.drop(\"rate\",axis=1)"
   ]
  },
  {
   "cell_type": "code",
   "execution_count": null,
   "id": "78526af3",
   "metadata": {},
   "outputs": [],
   "source": [
    "y=petrol_data[\"rate\"]"
   ]
  },
  {
   "cell_type": "code",
   "execution_count": null,
   "id": "b51b9a21",
   "metadata": {},
   "outputs": [],
   "source": [
    "from sklearn.model_selection import train_test_split"
   ]
  },
  {
   "cell_type": "code",
   "execution_count": null,
   "id": "8a0b6f10",
   "metadata": {},
   "outputs": [],
   "source": [
    "x_train,x_test,y_train,y_test=train_test_split(x,y)"
   ]
  },
  {
   "cell_type": "code",
   "execution_count": null,
   "id": "8b64995d",
   "metadata": {},
   "outputs": [],
   "source": [
    "from sklearn.ensemble import RandomForestRegressor"
   ]
  },
  {
   "cell_type": "code",
   "execution_count": null,
   "id": "a75d0e6d",
   "metadata": {},
   "outputs": [],
   "source": [
    "rf=RandomForestRegressor()"
   ]
  },
  {
   "cell_type": "code",
   "execution_count": null,
   "id": "358ee7db",
   "metadata": {},
   "outputs": [],
   "source": [
    "rf.fit(x_train,y_train)"
   ]
  },
  {
   "cell_type": "code",
   "execution_count": null,
   "id": "2662a806",
   "metadata": {},
   "outputs": [],
   "source": [
    "y_predictions=rf.predict(x_test)"
   ]
  },
  {
   "cell_type": "code",
   "execution_count": null,
   "id": "61e5ae8c",
   "metadata": {},
   "outputs": [],
   "source": [
    "print(y_predictions)"
   ]
  },
  {
   "cell_type": "code",
   "execution_count": null,
   "id": "43fa0072",
   "metadata": {},
   "outputs": [],
   "source": [
    "from sklearn.metrics import mean_squared_error"
   ]
  },
  {
   "cell_type": "code",
   "execution_count": null,
   "id": "0ad5d1de",
   "metadata": {},
   "outputs": [],
   "source": [
    "print(mean_squared_error(y_predictions,y_test))"
   ]
  },
  {
   "cell_type": "code",
   "execution_count": null,
   "id": "d887c973",
   "metadata": {},
   "outputs": [],
   "source": [
    "def predict_petrol_price(city,year,month,model):\n",
    "    res=[]\n",
    "    res.append(city)\n",
    "    res.append(year)\n",
    "    res.append(month)\n",
    "    res_array=np.asarray(res)\n",
    "    res_array_reshaped=res_array.reshape(1,-1)\n",
    "    ans=model.predict(res_array_reshaped)\n",
    "    print(\"The price of petrol is\",ans[0])"
   ]
  },
  {
   "cell_type": "code",
   "execution_count": null,
   "id": "f715e297",
   "metadata": {},
   "outputs": [],
   "source": [
    "predict_petrol_price(4,2011,9,rf)"
   ]
  },
  {
   "cell_type": "code",
   "execution_count": null,
   "id": "daed04f0",
   "metadata": {},
   "outputs": [],
   "source": [
    "from sklearn.linear_model import LinearRegression"
   ]
  },
  {
   "cell_type": "code",
   "execution_count": null,
   "id": "649cd6d7",
   "metadata": {},
   "outputs": [],
   "source": [
    "lr=LinearRegression()"
   ]
  },
  {
   "cell_type": "code",
   "execution_count": null,
   "id": "abf2f5af",
   "metadata": {},
   "outputs": [],
   "source": [
    "lr.fit(x_train,y_train)"
   ]
  },
  {
   "cell_type": "code",
   "execution_count": null,
   "id": "36f118f1",
   "metadata": {},
   "outputs": [],
   "source": [
    "predict_petrol_price(4,2020,9,rf)"
   ]
  },
  {
   "cell_type": "code",
   "execution_count": null,
   "id": "45ecc26e",
   "metadata": {},
   "outputs": [],
   "source": [
    "predict_petrol_price(4,2009,9,rf)"
   ]
  },
  {
   "cell_type": "code",
   "execution_count": null,
   "id": "c6dc676d-5227-4686-9e81-80c032d04b85",
   "metadata": {},
   "outputs": [],
   "source": [
    "import gradio as gr\n",
    "from sklearn.ensemble import RandomForestRegressor\n",
    "import numpy as np\n",
    "\n",
    "model = RandomForestRegressor()\n",
    "model.fit(x_train, y_train)  # Fit the model with your training data\n",
    "\n",
    "def predict_petrol_price(city, year, month):\n",
    "    # Prepare input for prediction\n",
    "    res = [city, year, month]\n",
    "    res_array = np.asarray(res)\n",
    "    res_array_reshaped = res_array.reshape(1, -1)\n",
    "    \n",
    "    # Example of model prediction\n",
    "    ans = model.predict(res_array_reshaped)\n",
    "    \n",
    "    return ans[0]\n",
    "\n",
    "# Create a Gradio interface\n",
    "iface = gr.Interface(\n",
    "    fn=predict_petrol_price,\n",
    "    inputs=[\"text\", \"text\", \"text\"],\n",
    "    outputs=\"text\",\n",
    "    title=\"Petrol Price Predictor\",\n",
    "    description=\"Enter the city code, year, and month to predict the petrol price.\"\n",
    ")\n",
    "\n",
    "# Launch the interface\n",
    "iface.launch()"
   ]
  },
  {
   "cell_type": "code",
   "execution_count": null,
   "id": "ae51cf0a-1a2a-4e80-a0a2-dcd673015893",
   "metadata": {},
   "outputs": [],
   "source": []
  },
  {
   "cell_type": "code",
   "execution_count": null,
   "id": "63d75c11-09b5-4542-8c24-20324cd18594",
   "metadata": {},
   "outputs": [],
   "source": []
  },
  {
   "cell_type": "code",
   "execution_count": null,
   "id": "429a1773-df72-48ee-9b43-192ba267abe9",
   "metadata": {},
   "outputs": [],
   "source": []
  },
  {
   "cell_type": "code",
   "execution_count": null,
   "id": "15f2e8b8-440d-41cf-aba7-5be87841a10b",
   "metadata": {},
   "outputs": [],
   "source": []
  }
 ],
 "metadata": {
  "kernelspec": {
   "display_name": "Python 3 (ipykernel)",
   "language": "python",
   "name": "python3"
  },
  "language_info": {
   "codemirror_mode": {
    "name": "ipython",
    "version": 3
   },
   "file_extension": ".py",
   "mimetype": "text/x-python",
   "name": "python",
   "nbconvert_exporter": "python",
   "pygments_lexer": "ipython3",
   "version": "3.11.0"
  }
 },
 "nbformat": 4,
 "nbformat_minor": 5
}
